{
 "cells": [
  {
   "cell_type": "code",
   "execution_count": null,
   "metadata": {},
   "outputs": [],
   "source": [
    "import os\n",
    "from main import RearrangeEasyChain\n",
    "from hydra import compose, initialize\n",
    "with initialize(version_base='1.1', config_path='conf'):\n",
    "    conf = compose(config_name=\"config\")    "
   ]
  },
  {
   "cell_type": "code",
   "execution_count": null,
   "metadata": {},
   "outputs": [],
   "source": [
    "chain = RearrangeEasyChain(conf)\n",
    "chain.generate('Take a fruit to the kitchen counter')"
   ]
  }
 ],
 "metadata": {
  "kernelspec": {
   "display_name": "robot-llm",
   "language": "python",
   "name": "python3"
  },
  "language_info": {
   "codemirror_mode": {
    "name": "ipython",
    "version": 3
   },
   "file_extension": ".py",
   "mimetype": "text/x-python",
   "name": "python",
   "nbconvert_exporter": "python",
   "pygments_lexer": "ipython3",
   "version": "3.8.16"
  },
  "orig_nbformat": 4,
  "vscode": {
   "interpreter": {
    "hash": "1c8265bd49bb56c0bee7cdaedd83419fbfa4c22e8925da46233a4da30e3ac686"
   }
  }
 },
 "nbformat": 4,
 "nbformat_minor": 2
}
